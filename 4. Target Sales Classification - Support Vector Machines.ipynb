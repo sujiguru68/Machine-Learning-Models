{
 "cells": [
  {
   "cell_type": "markdown",
   "metadata": {
    "id": "ky30o5f66vbd"
   },
   "source": [
    "# Support Vector Machines"
   ]
  },
  {
   "cell_type": "markdown",
   "metadata": {
    "id": "_1bW7sIg6vbf"
   },
   "source": [
    "# Exploratory Data Analysis"
   ]
  },
  {
   "cell_type": "code",
   "execution_count": 1,
   "metadata": {
    "id": "9BDk8XHK6vbf"
   },
   "outputs": [],
   "source": [
    "import pandas as pd\n",
    "import numpy as np\n",
    "import seaborn as sns\n",
    "from sklearn.feature_extraction.text import CountVectorizer, TfidfVectorizer\n",
    "from sklearn.preprocessing import StandardScaler"
   ]
  },
  {
   "cell_type": "code",
   "execution_count": 2,
   "metadata": {
    "id": "skiV_luP6vbg"
   },
   "outputs": [],
   "source": [
    "from sklearn import svm\n",
    "from sklearn.svm import SVC\n",
    "from sklearn.model_selection import GridSearchCV\n",
    "from sklearn.metrics import classification_report"
   ]
  },
  {
   "cell_type": "code",
   "execution_count": 3,
   "metadata": {
    "colab": {
     "base_uri": "https://localhost:8080/",
     "height": 73
    },
    "id": "JWmQHiwH6vbh",
    "outputId": "ce407b4d-1c22-4b4e-f462-1f85d323f62c"
   },
   "outputs": [],
   "source": [
    "from sklearn.metrics import accuracy_score, confusion_matrix\n",
    "from sklearn.model_selection import train_test_split, cross_val_score"
   ]
  },
  {
   "cell_type": "code",
   "execution_count": 4,
   "metadata": {
    "id": "MQmLzwN86vbh"
   },
   "outputs": [],
   "source": [
    "c = pd.read_csv('Companydata.csv')"
   ]
  },
  {
   "cell_type": "code",
   "execution_count": 5,
   "metadata": {
    "colab": {
     "base_uri": "https://localhost:8080/"
    },
    "id": "Tqni0uOI6vbh",
    "outputId": "4c765526-fb5d-4295-a2ee-8cf1f8b3c77c"
   },
   "outputs": [
    {
     "name": "stdout",
     "output_type": "stream",
     "text": [
      "<class 'pandas.core.frame.DataFrame'>\n",
      "RangeIndex: 400 entries, 0 to 399\n",
      "Data columns (total 11 columns):\n",
      " #   Column       Non-Null Count  Dtype  \n",
      "---  ------       --------------  -----  \n",
      " 0   Sales        400 non-null    float64\n",
      " 1   CompPrice    400 non-null    int64  \n",
      " 2   Income       400 non-null    int64  \n",
      " 3   Advertising  400 non-null    int64  \n",
      " 4   Population   400 non-null    int64  \n",
      " 5   Price        400 non-null    int64  \n",
      " 6   ShelveLoc    400 non-null    object \n",
      " 7   Age          400 non-null    int64  \n",
      " 8   Education    400 non-null    int64  \n",
      " 9   Urban        400 non-null    object \n",
      " 10  US           400 non-null    object \n",
      "dtypes: float64(1), int64(7), object(3)\n",
      "memory usage: 34.5+ KB\n"
     ]
    }
   ],
   "source": [
    "#To find whether there are any existing null values or not\n",
    "c.info()"
   ]
  },
  {
   "cell_type": "code",
   "execution_count": 6,
   "metadata": {
    "colab": {
     "base_uri": "https://localhost:8080/",
     "height": 49
    },
    "id": "eHxpDTP76vbi",
    "outputId": "4a328a7b-d56f-4499-ab9f-ff10da4e5587"
   },
   "outputs": [
    {
     "data": {
      "text/html": [
       "<div>\n",
       "<style scoped>\n",
       "    .dataframe tbody tr th:only-of-type {\n",
       "        vertical-align: middle;\n",
       "    }\n",
       "\n",
       "    .dataframe tbody tr th {\n",
       "        vertical-align: top;\n",
       "    }\n",
       "\n",
       "    .dataframe thead th {\n",
       "        text-align: right;\n",
       "    }\n",
       "</style>\n",
       "<table border=\"1\" class=\"dataframe\">\n",
       "  <thead>\n",
       "    <tr style=\"text-align: right;\">\n",
       "      <th></th>\n",
       "      <th>Sales</th>\n",
       "      <th>CompPrice</th>\n",
       "      <th>Income</th>\n",
       "      <th>Advertising</th>\n",
       "      <th>Population</th>\n",
       "      <th>Price</th>\n",
       "      <th>ShelveLoc</th>\n",
       "      <th>Age</th>\n",
       "      <th>Education</th>\n",
       "      <th>Urban</th>\n",
       "      <th>US</th>\n",
       "    </tr>\n",
       "  </thead>\n",
       "  <tbody>\n",
       "  </tbody>\n",
       "</table>\n",
       "</div>"
      ],
      "text/plain": [
       "Empty DataFrame\n",
       "Columns: [Sales, CompPrice, Income, Advertising, Population, Price, ShelveLoc, Age, Education, Urban, US]\n",
       "Index: []"
      ]
     },
     "execution_count": 6,
     "metadata": {},
     "output_type": "execute_result"
    }
   ],
   "source": [
    "#Count of duplicated rows\n",
    "c[c.duplicated()]"
   ]
  },
  {
   "cell_type": "code",
   "execution_count": 7,
   "metadata": {
    "colab": {
     "base_uri": "https://localhost:8080/",
     "height": 447
    },
    "id": "kBMO7AXf6vbi",
    "outputId": "bd0c6c71-c7e2-4080-8744-b194266faf47"
   },
   "outputs": [
    {
     "data": {
      "text/plain": [
       "<AxesSubplot:>"
      ]
     },
     "execution_count": 7,
     "metadata": {},
     "output_type": "execute_result"
    },
    {
     "data": {
      "image/png": "[encoded data removed]",
      "text/plain": [
       "<Figure size 640x480 with 1 Axes>"
      ]
     },
     "metadata": {},
     "output_type": "display_data"
    }
   ],
   "source": [
    "#Outlier Detection\n",
    "c.plot(kind='box')"
   ]
  },
  {
   "cell_type": "code",
   "execution_count": 8,
   "metadata": {
    "colab": {
     "base_uri": "https://localhost:8080/",
     "height": 447
    },
    "id": "sKoMH04z6vbi",
    "outputId": "4c01c668-a364-40b6-9c52-cf7979805a57"
   },
   "outputs": [
    {
     "data": {
      "text/plain": [
       "<AxesSubplot:>"
      ]
     },
     "execution_count": 8,
     "metadata": {},
     "output_type": "execute_result"
    },
    {
     "data": {
      "image/png": "[encoded data removed]",
      "text/plain": [
       "<Figure size 640x480 with 1 Axes>"
      ]
     },
     "metadata": {},
     "output_type": "display_data"
    }
   ],
   "source": [
    "c.Sales.plot(kind='box')"
   ]
  },
  {
   "cell_type": "code",
   "execution_count": 9,
   "metadata": {
    "colab": {
     "base_uri": "https://localhost:8080/"
    },
    "id": "CY989Pep6vbi",
    "outputId": "62119170-61d3-4083-8276-af3a568c2d66"
   },
   "outputs": [
    {
     "data": {
      "text/plain": [
       "count    400.000000\n",
       "mean       7.496325\n",
       "std        2.824115\n",
       "min        0.000000\n",
       "25%        5.390000\n",
       "50%        7.490000\n",
       "75%        9.320000\n",
       "max       16.270000\n",
       "Name: Sales, dtype: float64"
      ]
     },
     "execution_count": 9,
     "metadata": {},
     "output_type": "execute_result"
    }
   ],
   "source": [
    "c.Sales.describe()"
   ]
  },
  {
   "cell_type": "code",
   "execution_count": 10,
   "metadata": {
    "colab": {
     "base_uri": "https://localhost:8080/"
    },
    "id": "lxO8LBTU6vbi",
    "outputId": "0f5b57ca-d013-4354-e3d5-0c771eceb374"
   },
   "outputs": [
    {
     "data": {
      "text/plain": [
       "3.9300000000000006"
      ]
     },
     "execution_count": 10,
     "metadata": {},
     "output_type": "execute_result"
    }
   ],
   "source": [
    "IQR = 9.320000 - 5.390000\n",
    "IQR"
   ]
  },
  {
   "cell_type": "code",
   "execution_count": 11,
   "metadata": {
    "colab": {
     "base_uri": "https://localhost:8080/"
    },
    "id": "t0SYfeH36vbj",
    "outputId": "9fc20593-294c-4b4f-e7d0-6f1c0295edb1"
   },
   "outputs": [
    {
     "data": {
      "text/plain": [
       "15.215000000000002"
      ]
     },
     "execution_count": 11,
     "metadata": {},
     "output_type": "execute_result"
    }
   ],
   "source": [
    "#Calculation of upper fence\n",
    "upper_fence = 9.320000 + (1.5*IQR)\n",
    "upper_fence"
   ]
  },
  {
   "cell_type": "code",
   "execution_count": 12,
   "metadata": {
    "id": "fsNNOica6vbj"
   },
   "outputs": [],
   "source": [
    "index=c[c.Sales>15.215000000000002].index\n",
    "c = c.drop(index,axis=0)"
   ]
  },
  {
   "cell_type": "code",
   "execution_count": 13,
   "metadata": {},
   "outputs": [
    {
     "data": {
      "text/plain": [
       "<AxesSubplot:>"
      ]
     },
     "execution_count": 13,
     "metadata": {},
     "output_type": "execute_result"
    },
    {
     "data": {
      "image/png": "[encoded data removed]",
      "text/plain": [
       "<Figure size 640x480 with 1 Axes>"
      ]
     },
     "metadata": {},
     "output_type": "display_data"
    }
   ],
   "source": [
    "c.Sales.plot(kind='box')"
   ]
  },
  {
   "cell_type": "code",
   "execution_count": 14,
   "metadata": {
    "colab": {
     "base_uri": "https://localhost:8080/",
     "height": 447
    },
    "id": "mxeTFsFS6vbj",
    "outputId": "7e9cc94e-5fdc-4a25-853c-ade1422ee1af"
   },
   "outputs": [
    {
     "data": {
      "text/plain": [
       "<AxesSubplot:>"
      ]
     },
     "execution_count": 14,
     "metadata": {},
     "output_type": "execute_result"
    },
    {
     "data": {
      "image/png": "[encoded data removed]",
      "text/plain": [
       "<Figure size 640x480 with 1 Axes>"
      ]
     },
     "metadata": {},
     "output_type": "display_data"
    }
   ],
   "source": [
    "c.CompPrice.plot(kind='box')"
   ]
  },
  {
   "cell_type": "code",
   "execution_count": 15,
   "metadata": {
    "colab": {
     "base_uri": "https://localhost:8080/"
    },
    "id": "HtM03UF96vbj",
    "outputId": "f61c8128-923a-48b9-b88a-4800b9c890b3"
   },
   "outputs": [
    {
     "data": {
      "text/plain": [
       "count    398.000000\n",
       "mean     124.942211\n",
       "std       15.351275\n",
       "min       77.000000\n",
       "25%      115.000000\n",
       "50%      125.000000\n",
       "75%      135.000000\n",
       "max      175.000000\n",
       "Name: CompPrice, dtype: float64"
      ]
     },
     "execution_count": 15,
     "metadata": {},
     "output_type": "execute_result"
    }
   ],
   "source": [
    "c.CompPrice.describe()"
   ]
  },
  {
   "cell_type": "code",
   "execution_count": 16,
   "metadata": {
    "colab": {
     "base_uri": "https://localhost:8080/"
    },
    "id": "kku_lQLE6vbj",
    "outputId": "7485c28f-fbdd-4aa7-8d4b-9e65248bba87"
   },
   "outputs": [
    {
     "data": {
      "text/plain": [
       "20.0"
      ]
     },
     "execution_count": 16,
     "metadata": {},
     "output_type": "execute_result"
    }
   ],
   "source": [
    "IQR = 135.000000 - 115.000000\n",
    "IQR"
   ]
  },
  {
   "cell_type": "code",
   "execution_count": 17,
   "metadata": {
    "colab": {
     "base_uri": "https://localhost:8080/"
    },
    "id": "kd3NOPnt6vbj",
    "outputId": "343fe8fc-5521-43e3-c20f-a1d6b190c796"
   },
   "outputs": [
    {
     "data": {
      "text/plain": [
       "165.0"
      ]
     },
     "execution_count": 17,
     "metadata": {},
     "output_type": "execute_result"
    }
   ],
   "source": [
    "#Calculation of upper fence\n",
    "upper_fence = 135.000000 + (1.5*IQR)\n",
    "upper_fence"
   ]
  },
  {
   "cell_type": "code",
   "execution_count": 18,
   "metadata": {},
   "outputs": [
    {
     "data": {
      "text/plain": [
       "85.0"
      ]
     },
     "execution_count": 18,
     "metadata": {},
     "output_type": "execute_result"
    }
   ],
   "source": [
    "#Calculation of lower fence\n",
    "lower_fence = 115.000000 - (1.5*IQR)\n",
    "lower_fence"
   ]
  },
  {
   "cell_type": "code",
   "execution_count": 19,
   "metadata": {
    "id": "LacM8af76vbk"
   },
   "outputs": [],
   "source": [
    "index=c[c.CompPrice>165.0].index\n",
    "c = c.drop(index,axis=0)"
   ]
  },
  {
   "cell_type": "code",
   "execution_count": 20,
   "metadata": {},
   "outputs": [],
   "source": [
    "index=c[c.CompPrice<85.0].index\n",
    "c = c.drop(index,axis=0)"
   ]
  },
  {
   "cell_type": "code",
   "execution_count": 21,
   "metadata": {
    "colab": {
     "base_uri": "https://localhost:8080/",
     "height": 447
    },
    "id": "WGwHCLvr6vbk",
    "outputId": "297888b6-0df8-4932-8d2d-a2c9125d11d5"
   },
   "outputs": [
    {
     "data": {
      "text/plain": [
       "<AxesSubplot:>"
      ]
     },
     "execution_count": 21,
     "metadata": {},
     "output_type": "execute_result"
    },
    {
     "data": {
      "image/png": "[encoded data removed]",
      "text/plain": [
       "<Figure size 640x480 with 1 Axes>"
      ]
     },
     "metadata": {},
     "output_type": "display_data"
    }
   ],
   "source": [
    "c.CompPrice.plot(kind='box')"
   ]
  },
  {
   "cell_type": "code",
   "execution_count": 22,
   "metadata": {
    "colab": {
     "base_uri": "https://localhost:8080/",
     "height": 447
    },
    "id": "Oka6RONk6vbk",
    "outputId": "1309e6ad-a8b0-429f-c18a-336615a2baf0"
   },
   "outputs": [
    {
     "data": {
      "text/plain": [
       "<AxesSubplot:>"
      ]
     },
     "execution_count": 22,
     "metadata": {},
     "output_type": "execute_result"
    },
    {
     "data": {
      "image/png": "[encoded data removed]",
      "text/plain": [
       "<Figure size 640x480 with 1 Axes>"
      ]
     },
     "metadata": {},
     "output_type": "display_data"
    }
   ],
   "source": [
    "c.Price.plot(kind='box')"
   ]
  },
  {
   "cell_type": "code",
   "execution_count": 23,
   "metadata": {
    "colab": {
     "base_uri": "https://localhost:8080/"
    },
    "id": "G72Hz8a_6vbk",
    "outputId": "a3415cc0-3486-467d-b075-0febb9bbeac6"
   },
   "outputs": [
    {
     "data": {
      "text/plain": [
       "count    396.000000\n",
       "mean     116.070707\n",
       "std       23.069077\n",
       "min       49.000000\n",
       "25%      100.750000\n",
       "50%      117.500000\n",
       "75%      131.000000\n",
       "max      191.000000\n",
       "Name: Price, dtype: float64"
      ]
     },
     "execution_count": 23,
     "metadata": {},
     "output_type": "execute_result"
    }
   ],
   "source": [
    "c.Price.describe()"
   ]
  },
  {
   "cell_type": "code",
   "execution_count": 24,
   "metadata": {
    "colab": {
     "base_uri": "https://localhost:8080/"
    },
    "id": "4HW_HLh-6vbk",
    "outputId": "a3959226-4ebb-43b3-cf86-82d1532b36d9"
   },
   "outputs": [
    {
     "data": {
      "text/plain": [
       "30.25"
      ]
     },
     "execution_count": 24,
     "metadata": {},
     "output_type": "execute_result"
    }
   ],
   "source": [
    "IQR = 131.000000 - 100.750000\n",
    "IQR"
   ]
  },
  {
   "cell_type": "code",
   "execution_count": 25,
   "metadata": {
    "colab": {
     "base_uri": "https://localhost:8080/"
    },
    "id": "wK4JjISx6vbk",
    "outputId": "87e4bffd-206a-46c2-a6a7-69030c08d857"
   },
   "outputs": [
    {
     "data": {
      "text/plain": [
       "176.375"
      ]
     },
     "execution_count": 25,
     "metadata": {},
     "output_type": "execute_result"
    }
   ],
   "source": [
    "#Calculation of upper fence\n",
    "upper_fence = 131.000000 + (1.5*IQR)\n",
    "upper_fence"
   ]
  },
  {
   "cell_type": "code",
   "execution_count": 26,
   "metadata": {
    "id": "1gtiEtso6vbl"
   },
   "outputs": [],
   "source": [
    "index=c[c.Price>176.375].index\n",
    "c = c.drop(index,axis=0)"
   ]
  },
  {
   "cell_type": "code",
   "execution_count": 27,
   "metadata": {},
   "outputs": [],
   "source": [
    "index=c[c.Price<55.375].index\n",
    "c = c.drop(index,axis=0)"
   ]
  },
  {
   "cell_type": "code",
   "execution_count": 28,
   "metadata": {
    "colab": {
     "base_uri": "https://localhost:8080/",
     "height": 447
    },
    "id": "GHlL4zVU6vbl",
    "outputId": "3ced46fa-b9b5-4ff8-9cbb-fba8ed7fd4f0"
   },
   "outputs": [
    {
     "data": {
      "text/plain": [
       "<AxesSubplot:>"
      ]
     },
     "execution_count": 28,
     "metadata": {},
     "output_type": "execute_result"
    },
    {
     "data": {
      "image/png": "[encoded data removed]",
      "text/plain": [
       "<Figure size 640x480 with 1 Axes>"
      ]
     },
     "metadata": {},
     "output_type": "display_data"
    }
   ],
   "source": [
    "c.Price.plot(kind='box')"
   ]
  },
  {
   "cell_type": "code",
   "execution_count": 29,
   "metadata": {},
   "outputs": [
    {
     "data": {
      "text/html": [
       "<div>\n",
       "<style scoped>\n",
       "    .dataframe tbody tr th:only-of-type {\n",
       "        vertical-align: middle;\n",
       "    }\n",
       "\n",
       "    .dataframe tbody tr th {\n",
       "        vertical-align: top;\n",
       "    }\n",
       "\n",
       "    .dataframe thead th {\n",
       "        text-align: right;\n",
       "    }\n",
       "</style>\n",
       "<table border=\"1\" class=\"dataframe\">\n",
       "  <thead>\n",
       "    <tr style=\"text-align: right;\">\n",
       "      <th></th>\n",
       "      <th>Sales</th>\n",
       "      <th>CompPrice</th>\n",
       "      <th>Income</th>\n",
       "      <th>Advertising</th>\n",
       "      <th>Population</th>\n",
       "      <th>Price</th>\n",
       "      <th>ShelveLoc</th>\n",
       "      <th>Age</th>\n",
       "      <th>Education</th>\n",
       "      <th>Urban</th>\n",
       "      <th>US</th>\n",
       "      <th>Target</th>\n",
       "    </tr>\n",
       "  </thead>\n",
       "  <tbody>\n",
       "    <tr>\n",
       "      <th>0</th>\n",
       "      <td>9.50</td>\n",
       "      <td>138</td>\n",
       "      <td>73</td>\n",
       "      <td>11</td>\n",
       "      <td>276</td>\n",
       "      <td>120</td>\n",
       "      <td>Bad</td>\n",
       "      <td>42</td>\n",
       "      <td>17</td>\n",
       "      <td>Yes</td>\n",
       "      <td>Yes</td>\n",
       "      <td>High</td>\n",
       "    </tr>\n",
       "    <tr>\n",
       "      <th>1</th>\n",
       "      <td>11.22</td>\n",
       "      <td>111</td>\n",
       "      <td>48</td>\n",
       "      <td>16</td>\n",
       "      <td>260</td>\n",
       "      <td>83</td>\n",
       "      <td>Good</td>\n",
       "      <td>65</td>\n",
       "      <td>10</td>\n",
       "      <td>Yes</td>\n",
       "      <td>Yes</td>\n",
       "      <td>High</td>\n",
       "    </tr>\n",
       "    <tr>\n",
       "      <th>2</th>\n",
       "      <td>10.06</td>\n",
       "      <td>113</td>\n",
       "      <td>35</td>\n",
       "      <td>10</td>\n",
       "      <td>269</td>\n",
       "      <td>80</td>\n",
       "      <td>Medium</td>\n",
       "      <td>59</td>\n",
       "      <td>12</td>\n",
       "      <td>Yes</td>\n",
       "      <td>Yes</td>\n",
       "      <td>High</td>\n",
       "    </tr>\n",
       "    <tr>\n",
       "      <th>3</th>\n",
       "      <td>7.40</td>\n",
       "      <td>117</td>\n",
       "      <td>100</td>\n",
       "      <td>4</td>\n",
       "      <td>466</td>\n",
       "      <td>97</td>\n",
       "      <td>Medium</td>\n",
       "      <td>55</td>\n",
       "      <td>14</td>\n",
       "      <td>Yes</td>\n",
       "      <td>Yes</td>\n",
       "      <td>High</td>\n",
       "    </tr>\n",
       "    <tr>\n",
       "      <th>4</th>\n",
       "      <td>4.15</td>\n",
       "      <td>141</td>\n",
       "      <td>64</td>\n",
       "      <td>3</td>\n",
       "      <td>340</td>\n",
       "      <td>128</td>\n",
       "      <td>Bad</td>\n",
       "      <td>38</td>\n",
       "      <td>13</td>\n",
       "      <td>Yes</td>\n",
       "      <td>No</td>\n",
       "      <td>Low</td>\n",
       "    </tr>\n",
       "    <tr>\n",
       "      <th>5</th>\n",
       "      <td>10.81</td>\n",
       "      <td>124</td>\n",
       "      <td>113</td>\n",
       "      <td>13</td>\n",
       "      <td>501</td>\n",
       "      <td>72</td>\n",
       "      <td>Bad</td>\n",
       "      <td>78</td>\n",
       "      <td>16</td>\n",
       "      <td>No</td>\n",
       "      <td>Yes</td>\n",
       "      <td>High</td>\n",
       "    </tr>\n",
       "    <tr>\n",
       "      <th>6</th>\n",
       "      <td>6.63</td>\n",
       "      <td>115</td>\n",
       "      <td>105</td>\n",
       "      <td>0</td>\n",
       "      <td>45</td>\n",
       "      <td>108</td>\n",
       "      <td>Medium</td>\n",
       "      <td>71</td>\n",
       "      <td>15</td>\n",
       "      <td>Yes</td>\n",
       "      <td>No</td>\n",
       "      <td>High</td>\n",
       "    </tr>\n",
       "    <tr>\n",
       "      <th>7</th>\n",
       "      <td>11.85</td>\n",
       "      <td>136</td>\n",
       "      <td>81</td>\n",
       "      <td>15</td>\n",
       "      <td>425</td>\n",
       "      <td>120</td>\n",
       "      <td>Good</td>\n",
       "      <td>67</td>\n",
       "      <td>10</td>\n",
       "      <td>Yes</td>\n",
       "      <td>Yes</td>\n",
       "      <td>High</td>\n",
       "    </tr>\n",
       "    <tr>\n",
       "      <th>8</th>\n",
       "      <td>6.54</td>\n",
       "      <td>132</td>\n",
       "      <td>110</td>\n",
       "      <td>0</td>\n",
       "      <td>108</td>\n",
       "      <td>124</td>\n",
       "      <td>Medium</td>\n",
       "      <td>76</td>\n",
       "      <td>10</td>\n",
       "      <td>No</td>\n",
       "      <td>No</td>\n",
       "      <td>High</td>\n",
       "    </tr>\n",
       "    <tr>\n",
       "      <th>9</th>\n",
       "      <td>4.69</td>\n",
       "      <td>132</td>\n",
       "      <td>113</td>\n",
       "      <td>0</td>\n",
       "      <td>131</td>\n",
       "      <td>124</td>\n",
       "      <td>Medium</td>\n",
       "      <td>76</td>\n",
       "      <td>17</td>\n",
       "      <td>No</td>\n",
       "      <td>Yes</td>\n",
       "      <td>Low</td>\n",
       "    </tr>\n",
       "    <tr>\n",
       "      <th>10</th>\n",
       "      <td>9.01</td>\n",
       "      <td>121</td>\n",
       "      <td>78</td>\n",
       "      <td>9</td>\n",
       "      <td>150</td>\n",
       "      <td>100</td>\n",
       "      <td>Bad</td>\n",
       "      <td>26</td>\n",
       "      <td>10</td>\n",
       "      <td>No</td>\n",
       "      <td>Yes</td>\n",
       "      <td>High</td>\n",
       "    </tr>\n",
       "    <tr>\n",
       "      <th>11</th>\n",
       "      <td>11.96</td>\n",
       "      <td>117</td>\n",
       "      <td>94</td>\n",
       "      <td>4</td>\n",
       "      <td>503</td>\n",
       "      <td>94</td>\n",
       "      <td>Good</td>\n",
       "      <td>50</td>\n",
       "      <td>13</td>\n",
       "      <td>Yes</td>\n",
       "      <td>Yes</td>\n",
       "      <td>High</td>\n",
       "    </tr>\n",
       "    <tr>\n",
       "      <th>12</th>\n",
       "      <td>3.98</td>\n",
       "      <td>122</td>\n",
       "      <td>35</td>\n",
       "      <td>2</td>\n",
       "      <td>393</td>\n",
       "      <td>136</td>\n",
       "      <td>Medium</td>\n",
       "      <td>62</td>\n",
       "      <td>18</td>\n",
       "      <td>Yes</td>\n",
       "      <td>No</td>\n",
       "      <td>Low</td>\n",
       "    </tr>\n",
       "    <tr>\n",
       "      <th>13</th>\n",
       "      <td>10.96</td>\n",
       "      <td>115</td>\n",
       "      <td>28</td>\n",
       "      <td>11</td>\n",
       "      <td>29</td>\n",
       "      <td>86</td>\n",
       "      <td>Good</td>\n",
       "      <td>53</td>\n",
       "      <td>18</td>\n",
       "      <td>Yes</td>\n",
       "      <td>Yes</td>\n",
       "      <td>High</td>\n",
       "    </tr>\n",
       "    <tr>\n",
       "      <th>14</th>\n",
       "      <td>11.17</td>\n",
       "      <td>107</td>\n",
       "      <td>117</td>\n",
       "      <td>11</td>\n",
       "      <td>148</td>\n",
       "      <td>118</td>\n",
       "      <td>Good</td>\n",
       "      <td>52</td>\n",
       "      <td>18</td>\n",
       "      <td>Yes</td>\n",
       "      <td>Yes</td>\n",
       "      <td>High</td>\n",
       "    </tr>\n",
       "    <tr>\n",
       "      <th>15</th>\n",
       "      <td>8.71</td>\n",
       "      <td>149</td>\n",
       "      <td>95</td>\n",
       "      <td>5</td>\n",
       "      <td>400</td>\n",
       "      <td>144</td>\n",
       "      <td>Medium</td>\n",
       "      <td>76</td>\n",
       "      <td>18</td>\n",
       "      <td>No</td>\n",
       "      <td>No</td>\n",
       "      <td>High</td>\n",
       "    </tr>\n",
       "    <tr>\n",
       "      <th>16</th>\n",
       "      <td>7.58</td>\n",
       "      <td>118</td>\n",
       "      <td>32</td>\n",
       "      <td>0</td>\n",
       "      <td>284</td>\n",
       "      <td>110</td>\n",
       "      <td>Good</td>\n",
       "      <td>63</td>\n",
       "      <td>13</td>\n",
       "      <td>Yes</td>\n",
       "      <td>No</td>\n",
       "      <td>High</td>\n",
       "    </tr>\n",
       "    <tr>\n",
       "      <th>17</th>\n",
       "      <td>12.29</td>\n",
       "      <td>147</td>\n",
       "      <td>74</td>\n",
       "      <td>13</td>\n",
       "      <td>251</td>\n",
       "      <td>131</td>\n",
       "      <td>Good</td>\n",
       "      <td>52</td>\n",
       "      <td>10</td>\n",
       "      <td>Yes</td>\n",
       "      <td>Yes</td>\n",
       "      <td>High</td>\n",
       "    </tr>\n",
       "    <tr>\n",
       "      <th>18</th>\n",
       "      <td>13.91</td>\n",
       "      <td>110</td>\n",
       "      <td>110</td>\n",
       "      <td>0</td>\n",
       "      <td>408</td>\n",
       "      <td>68</td>\n",
       "      <td>Good</td>\n",
       "      <td>46</td>\n",
       "      <td>17</td>\n",
       "      <td>No</td>\n",
       "      <td>Yes</td>\n",
       "      <td>High</td>\n",
       "    </tr>\n",
       "    <tr>\n",
       "      <th>19</th>\n",
       "      <td>8.73</td>\n",
       "      <td>129</td>\n",
       "      <td>76</td>\n",
       "      <td>16</td>\n",
       "      <td>58</td>\n",
       "      <td>121</td>\n",
       "      <td>Medium</td>\n",
       "      <td>69</td>\n",
       "      <td>12</td>\n",
       "      <td>Yes</td>\n",
       "      <td>Yes</td>\n",
       "      <td>High</td>\n",
       "    </tr>\n",
       "    <tr>\n",
       "      <th>20</th>\n",
       "      <td>6.41</td>\n",
       "      <td>125</td>\n",
       "      <td>90</td>\n",
       "      <td>2</td>\n",
       "      <td>367</td>\n",
       "      <td>131</td>\n",
       "      <td>Medium</td>\n",
       "      <td>35</td>\n",
       "      <td>18</td>\n",
       "      <td>Yes</td>\n",
       "      <td>Yes</td>\n",
       "      <td>High</td>\n",
       "    </tr>\n",
       "    <tr>\n",
       "      <th>21</th>\n",
       "      <td>12.13</td>\n",
       "      <td>134</td>\n",
       "      <td>29</td>\n",
       "      <td>12</td>\n",
       "      <td>239</td>\n",
       "      <td>109</td>\n",
       "      <td>Good</td>\n",
       "      <td>62</td>\n",
       "      <td>18</td>\n",
       "      <td>No</td>\n",
       "      <td>Yes</td>\n",
       "      <td>High</td>\n",
       "    </tr>\n",
       "    <tr>\n",
       "      <th>22</th>\n",
       "      <td>5.08</td>\n",
       "      <td>128</td>\n",
       "      <td>46</td>\n",
       "      <td>6</td>\n",
       "      <td>497</td>\n",
       "      <td>138</td>\n",
       "      <td>Medium</td>\n",
       "      <td>42</td>\n",
       "      <td>13</td>\n",
       "      <td>Yes</td>\n",
       "      <td>No</td>\n",
       "      <td>Low</td>\n",
       "    </tr>\n",
       "    <tr>\n",
       "      <th>23</th>\n",
       "      <td>5.87</td>\n",
       "      <td>121</td>\n",
       "      <td>31</td>\n",
       "      <td>0</td>\n",
       "      <td>292</td>\n",
       "      <td>109</td>\n",
       "      <td>Medium</td>\n",
       "      <td>79</td>\n",
       "      <td>10</td>\n",
       "      <td>Yes</td>\n",
       "      <td>No</td>\n",
       "      <td>Low</td>\n",
       "    </tr>\n",
       "    <tr>\n",
       "      <th>24</th>\n",
       "      <td>10.14</td>\n",
       "      <td>145</td>\n",
       "      <td>119</td>\n",
       "      <td>16</td>\n",
       "      <td>294</td>\n",
       "      <td>113</td>\n",
       "      <td>Bad</td>\n",
       "      <td>42</td>\n",
       "      <td>12</td>\n",
       "      <td>Yes</td>\n",
       "      <td>Yes</td>\n",
       "      <td>High</td>\n",
       "    </tr>\n",
       "    <tr>\n",
       "      <th>25</th>\n",
       "      <td>14.90</td>\n",
       "      <td>139</td>\n",
       "      <td>32</td>\n",
       "      <td>0</td>\n",
       "      <td>176</td>\n",
       "      <td>82</td>\n",
       "      <td>Good</td>\n",
       "      <td>54</td>\n",
       "      <td>11</td>\n",
       "      <td>No</td>\n",
       "      <td>No</td>\n",
       "      <td>High</td>\n",
       "    </tr>\n",
       "    <tr>\n",
       "      <th>26</th>\n",
       "      <td>8.33</td>\n",
       "      <td>107</td>\n",
       "      <td>115</td>\n",
       "      <td>11</td>\n",
       "      <td>496</td>\n",
       "      <td>131</td>\n",
       "      <td>Good</td>\n",
       "      <td>50</td>\n",
       "      <td>11</td>\n",
       "      <td>No</td>\n",
       "      <td>Yes</td>\n",
       "      <td>High</td>\n",
       "    </tr>\n",
       "    <tr>\n",
       "      <th>27</th>\n",
       "      <td>5.27</td>\n",
       "      <td>98</td>\n",
       "      <td>118</td>\n",
       "      <td>0</td>\n",
       "      <td>19</td>\n",
       "      <td>107</td>\n",
       "      <td>Medium</td>\n",
       "      <td>64</td>\n",
       "      <td>17</td>\n",
       "      <td>Yes</td>\n",
       "      <td>No</td>\n",
       "      <td>Low</td>\n",
       "    </tr>\n",
       "    <tr>\n",
       "      <th>28</th>\n",
       "      <td>2.99</td>\n",
       "      <td>103</td>\n",
       "      <td>74</td>\n",
       "      <td>0</td>\n",
       "      <td>359</td>\n",
       "      <td>97</td>\n",
       "      <td>Bad</td>\n",
       "      <td>55</td>\n",
       "      <td>11</td>\n",
       "      <td>Yes</td>\n",
       "      <td>Yes</td>\n",
       "      <td>Low</td>\n",
       "    </tr>\n",
       "    <tr>\n",
       "      <th>29</th>\n",
       "      <td>7.81</td>\n",
       "      <td>104</td>\n",
       "      <td>99</td>\n",
       "      <td>15</td>\n",
       "      <td>226</td>\n",
       "      <td>102</td>\n",
       "      <td>Bad</td>\n",
       "      <td>58</td>\n",
       "      <td>17</td>\n",
       "      <td>Yes</td>\n",
       "      <td>Yes</td>\n",
       "      <td>High</td>\n",
       "    </tr>\n",
       "    <tr>\n",
       "      <th>30</th>\n",
       "      <td>13.55</td>\n",
       "      <td>125</td>\n",
       "      <td>94</td>\n",
       "      <td>0</td>\n",
       "      <td>447</td>\n",
       "      <td>89</td>\n",
       "      <td>Good</td>\n",
       "      <td>30</td>\n",
       "      <td>12</td>\n",
       "      <td>Yes</td>\n",
       "      <td>No</td>\n",
       "      <td>High</td>\n",
       "    </tr>\n",
       "    <tr>\n",
       "      <th>31</th>\n",
       "      <td>8.25</td>\n",
       "      <td>136</td>\n",
       "      <td>58</td>\n",
       "      <td>16</td>\n",
       "      <td>241</td>\n",
       "      <td>131</td>\n",
       "      <td>Medium</td>\n",
       "      <td>44</td>\n",
       "      <td>18</td>\n",
       "      <td>Yes</td>\n",
       "      <td>Yes</td>\n",
       "      <td>High</td>\n",
       "    </tr>\n",
       "    <tr>\n",
       "      <th>32</th>\n",
       "      <td>6.20</td>\n",
       "      <td>107</td>\n",
       "      <td>32</td>\n",
       "      <td>12</td>\n",
       "      <td>236</td>\n",
       "      <td>137</td>\n",
       "      <td>Good</td>\n",
       "      <td>64</td>\n",
       "      <td>10</td>\n",
       "      <td>No</td>\n",
       "      <td>Yes</td>\n",
       "      <td>High</td>\n",
       "    </tr>\n",
       "    <tr>\n",
       "      <th>33</th>\n",
       "      <td>8.77</td>\n",
       "      <td>114</td>\n",
       "      <td>38</td>\n",
       "      <td>13</td>\n",
       "      <td>317</td>\n",
       "      <td>128</td>\n",
       "      <td>Good</td>\n",
       "      <td>50</td>\n",
       "      <td>16</td>\n",
       "      <td>Yes</td>\n",
       "      <td>Yes</td>\n",
       "      <td>High</td>\n",
       "    </tr>\n",
       "    <tr>\n",
       "      <th>34</th>\n",
       "      <td>2.67</td>\n",
       "      <td>115</td>\n",
       "      <td>54</td>\n",
       "      <td>0</td>\n",
       "      <td>406</td>\n",
       "      <td>128</td>\n",
       "      <td>Medium</td>\n",
       "      <td>42</td>\n",
       "      <td>17</td>\n",
       "      <td>Yes</td>\n",
       "      <td>Yes</td>\n",
       "      <td>Low</td>\n",
       "    </tr>\n",
       "    <tr>\n",
       "      <th>35</th>\n",
       "      <td>11.07</td>\n",
       "      <td>131</td>\n",
       "      <td>84</td>\n",
       "      <td>11</td>\n",
       "      <td>29</td>\n",
       "      <td>96</td>\n",
       "      <td>Medium</td>\n",
       "      <td>44</td>\n",
       "      <td>17</td>\n",
       "      <td>No</td>\n",
       "      <td>Yes</td>\n",
       "      <td>High</td>\n",
       "    </tr>\n",
       "    <tr>\n",
       "      <th>36</th>\n",
       "      <td>8.89</td>\n",
       "      <td>122</td>\n",
       "      <td>76</td>\n",
       "      <td>0</td>\n",
       "      <td>270</td>\n",
       "      <td>100</td>\n",
       "      <td>Good</td>\n",
       "      <td>60</td>\n",
       "      <td>18</td>\n",
       "      <td>No</td>\n",
       "      <td>No</td>\n",
       "      <td>High</td>\n",
       "    </tr>\n",
       "    <tr>\n",
       "      <th>37</th>\n",
       "      <td>4.95</td>\n",
       "      <td>121</td>\n",
       "      <td>41</td>\n",
       "      <td>5</td>\n",
       "      <td>412</td>\n",
       "      <td>110</td>\n",
       "      <td>Medium</td>\n",
       "      <td>54</td>\n",
       "      <td>10</td>\n",
       "      <td>Yes</td>\n",
       "      <td>Yes</td>\n",
       "      <td>Low</td>\n",
       "    </tr>\n",
       "    <tr>\n",
       "      <th>38</th>\n",
       "      <td>6.59</td>\n",
       "      <td>109</td>\n",
       "      <td>73</td>\n",
       "      <td>0</td>\n",
       "      <td>454</td>\n",
       "      <td>102</td>\n",
       "      <td>Medium</td>\n",
       "      <td>65</td>\n",
       "      <td>15</td>\n",
       "      <td>Yes</td>\n",
       "      <td>No</td>\n",
       "      <td>High</td>\n",
       "    </tr>\n",
       "    <tr>\n",
       "      <th>39</th>\n",
       "      <td>3.24</td>\n",
       "      <td>130</td>\n",
       "      <td>60</td>\n",
       "      <td>0</td>\n",
       "      <td>144</td>\n",
       "      <td>138</td>\n",
       "      <td>Bad</td>\n",
       "      <td>38</td>\n",
       "      <td>10</td>\n",
       "      <td>No</td>\n",
       "      <td>No</td>\n",
       "      <td>Low</td>\n",
       "    </tr>\n",
       "    <tr>\n",
       "      <th>40</th>\n",
       "      <td>2.07</td>\n",
       "      <td>119</td>\n",
       "      <td>98</td>\n",
       "      <td>0</td>\n",
       "      <td>18</td>\n",
       "      <td>126</td>\n",
       "      <td>Bad</td>\n",
       "      <td>73</td>\n",
       "      <td>17</td>\n",
       "      <td>No</td>\n",
       "      <td>No</td>\n",
       "      <td>Low</td>\n",
       "    </tr>\n",
       "    <tr>\n",
       "      <th>41</th>\n",
       "      <td>7.96</td>\n",
       "      <td>157</td>\n",
       "      <td>53</td>\n",
       "      <td>0</td>\n",
       "      <td>403</td>\n",
       "      <td>124</td>\n",
       "      <td>Bad</td>\n",
       "      <td>58</td>\n",
       "      <td>16</td>\n",
       "      <td>Yes</td>\n",
       "      <td>No</td>\n",
       "      <td>High</td>\n",
       "    </tr>\n",
       "    <tr>\n",
       "      <th>43</th>\n",
       "      <td>4.12</td>\n",
       "      <td>123</td>\n",
       "      <td>42</td>\n",
       "      <td>11</td>\n",
       "      <td>16</td>\n",
       "      <td>134</td>\n",
       "      <td>Medium</td>\n",
       "      <td>59</td>\n",
       "      <td>13</td>\n",
       "      <td>Yes</td>\n",
       "      <td>Yes</td>\n",
       "      <td>Low</td>\n",
       "    </tr>\n",
       "    <tr>\n",
       "      <th>44</th>\n",
       "      <td>4.16</td>\n",
       "      <td>85</td>\n",
       "      <td>79</td>\n",
       "      <td>6</td>\n",
       "      <td>325</td>\n",
       "      <td>95</td>\n",
       "      <td>Medium</td>\n",
       "      <td>69</td>\n",
       "      <td>13</td>\n",
       "      <td>Yes</td>\n",
       "      <td>Yes</td>\n",
       "      <td>Low</td>\n",
       "    </tr>\n",
       "    <tr>\n",
       "      <th>45</th>\n",
       "      <td>4.56</td>\n",
       "      <td>141</td>\n",
       "      <td>63</td>\n",
       "      <td>0</td>\n",
       "      <td>168</td>\n",
       "      <td>135</td>\n",
       "      <td>Bad</td>\n",
       "      <td>44</td>\n",
       "      <td>12</td>\n",
       "      <td>Yes</td>\n",
       "      <td>Yes</td>\n",
       "      <td>Low</td>\n",
       "    </tr>\n",
       "    <tr>\n",
       "      <th>46</th>\n",
       "      <td>12.44</td>\n",
       "      <td>127</td>\n",
       "      <td>90</td>\n",
       "      <td>14</td>\n",
       "      <td>16</td>\n",
       "      <td>70</td>\n",
       "      <td>Medium</td>\n",
       "      <td>48</td>\n",
       "      <td>15</td>\n",
       "      <td>No</td>\n",
       "      <td>Yes</td>\n",
       "      <td>High</td>\n",
       "    </tr>\n",
       "    <tr>\n",
       "      <th>47</th>\n",
       "      <td>4.38</td>\n",
       "      <td>126</td>\n",
       "      <td>98</td>\n",
       "      <td>0</td>\n",
       "      <td>173</td>\n",
       "      <td>108</td>\n",
       "      <td>Bad</td>\n",
       "      <td>55</td>\n",
       "      <td>16</td>\n",
       "      <td>Yes</td>\n",
       "      <td>No</td>\n",
       "      <td>Low</td>\n",
       "    </tr>\n",
       "    <tr>\n",
       "      <th>48</th>\n",
       "      <td>3.91</td>\n",
       "      <td>116</td>\n",
       "      <td>52</td>\n",
       "      <td>0</td>\n",
       "      <td>349</td>\n",
       "      <td>98</td>\n",
       "      <td>Bad</td>\n",
       "      <td>69</td>\n",
       "      <td>18</td>\n",
       "      <td>Yes</td>\n",
       "      <td>No</td>\n",
       "      <td>Low</td>\n",
       "    </tr>\n",
       "    <tr>\n",
       "      <th>49</th>\n",
       "      <td>10.61</td>\n",
       "      <td>157</td>\n",
       "      <td>93</td>\n",
       "      <td>0</td>\n",
       "      <td>51</td>\n",
       "      <td>149</td>\n",
       "      <td>Good</td>\n",
       "      <td>32</td>\n",
       "      <td>17</td>\n",
       "      <td>Yes</td>\n",
       "      <td>No</td>\n",
       "      <td>High</td>\n",
       "    </tr>\n",
       "    <tr>\n",
       "      <th>50</th>\n",
       "      <td>1.42</td>\n",
       "      <td>99</td>\n",
       "      <td>32</td>\n",
       "      <td>18</td>\n",
       "      <td>341</td>\n",
       "      <td>108</td>\n",
       "      <td>Bad</td>\n",
       "      <td>80</td>\n",
       "      <td>16</td>\n",
       "      <td>Yes</td>\n",
       "      <td>Yes</td>\n",
       "      <td>Low</td>\n",
       "    </tr>\n",
       "  </tbody>\n",
       "</table>\n",
       "</div>"
      ],
      "text/plain": [
       "    Sales  CompPrice  Income  Advertising  Population  Price ShelveLoc  Age  \\\n",
       "0    9.50        138      73           11         276    120       Bad   42   \n",
       "1   11.22        111      48           16         260     83      Good   65   \n",
       "2   10.06        113      35           10         269     80    Medium   59   \n",
       "3    7.40        117     100            4         466     97    Medium   55   \n",
       "4    4.15        141      64            3         340    128       Bad   38   \n",
       "5   10.81        124     113           13         501     72       Bad   78   \n",
       "6    6.63        115     105            0          45    108    Medium   71   \n",
       "7   11.85        136      81           15         425    120      Good   67   \n",
       "8    6.54        132     110            0         108    124    Medium   76   \n",
       "9    4.69        132     113            0         131    124    Medium   76   \n",
       "10   9.01        121      78            9         150    100       Bad   26   \n",
       "11  11.96        117      94            4         503     94      Good   50   \n",
       "12   3.98        122      35            2         393    136    Medium   62   \n",
       "13  10.96        115      28           11          29     86      Good   53   \n",
       "14  11.17        107     117           11         148    118      Good   52   \n",
       "15   8.71        149      95            5         400    144    Medium   76   \n",
       "16   7.58        118      32            0         284    110      Good   63   \n",
       "17  12.29        147      74           13         251    131      Good   52   \n",
       "18  13.91        110     110            0         408     68      Good   46   \n",
       "19   8.73        129      76           16          58    121    Medium   69   \n",
       "20   6.41        125      90            2         367    131    Medium   35   \n",
       "21  12.13        134      29           12         239    109      Good   62   \n",
       "22   5.08        128      46            6         497    138    Medium   42   \n",
       "23   5.87        121      31            0         292    109    Medium   79   \n",
       "24  10.14        145     119           16         294    113       Bad   42   \n",
       "25  14.90        139      32            0         176     82      Good   54   \n",
       "26   8.33        107     115           11         496    131      Good   50   \n",
       "27   5.27         98     118            0          19    107    Medium   64   \n",
       "28   2.99        103      74            0         359     97       Bad   55   \n",
       "29   7.81        104      99           15         226    102       Bad   58   \n",
       "30  13.55        125      94            0         447     89      Good   30   \n",
       "31   8.25        136      58           16         241    131    Medium   44   \n",
       "32   6.20        107      32           12         236    137      Good   64   \n",
       "33   8.77        114      38           13         317    128      Good   50   \n",
       "34   2.67        115      54            0         406    128    Medium   42   \n",
       "35  11.07        131      84           11          29     96    Medium   44   \n",
       "36   8.89        122      76            0         270    100      Good   60   \n",
       "37   4.95        121      41            5         412    110    Medium   54   \n",
       "38   6.59        109      73            0         454    102    Medium   65   \n",
       "39   3.24        130      60            0         144    138       Bad   38   \n",
       "40   2.07        119      98            0          18    126       Bad   73   \n",
       "41   7.96        157      53            0         403    124       Bad   58   \n",
       "43   4.12        123      42           11          16    134    Medium   59   \n",
       "44   4.16         85      79            6         325     95    Medium   69   \n",
       "45   4.56        141      63            0         168    135       Bad   44   \n",
       "46  12.44        127      90           14          16     70    Medium   48   \n",
       "47   4.38        126      98            0         173    108       Bad   55   \n",
       "48   3.91        116      52            0         349     98       Bad   69   \n",
       "49  10.61        157      93            0          51    149      Good   32   \n",
       "50   1.42         99      32           18         341    108       Bad   80   \n",
       "\n",
       "    Education Urban   US Target  \n",
       "0          17   Yes  Yes   High  \n",
       "1          10   Yes  Yes   High  \n",
       "2          12   Yes  Yes   High  \n",
       "3          14   Yes  Yes   High  \n",
       "4          13   Yes   No    Low  \n",
       "5          16    No  Yes   High  \n",
       "6          15   Yes   No   High  \n",
       "7          10   Yes  Yes   High  \n",
       "8          10    No   No   High  \n",
       "9          17    No  Yes    Low  \n",
       "10         10    No  Yes   High  \n",
       "11         13   Yes  Yes   High  \n",
       "12         18   Yes   No    Low  \n",
       "13         18   Yes  Yes   High  \n",
       "14         18   Yes  Yes   High  \n",
       "15         18    No   No   High  \n",
       "16         13   Yes   No   High  \n",
       "17         10   Yes  Yes   High  \n",
       "18         17    No  Yes   High  \n",
       "19         12   Yes  Yes   High  \n",
       "20         18   Yes  Yes   High  \n",
       "21         18    No  Yes   High  \n",
       "22         13   Yes   No    Low  \n",
       "23         10   Yes   No    Low  \n",
       "24         12   Yes  Yes   High  \n",
       "25         11    No   No   High  \n",
       "26         11    No  Yes   High  \n",
       "27         17   Yes   No    Low  \n",
       "28         11   Yes  Yes    Low  \n",
       "29         17   Yes  Yes   High  \n",
       "30         12   Yes   No   High  \n",
       "31         18   Yes  Yes   High  \n",
       "32         10    No  Yes   High  \n",
       "33         16   Yes  Yes   High  \n",
       "34         17   Yes  Yes    Low  \n",
       "35         17    No  Yes   High  \n",
       "36         18    No   No   High  \n",
       "37         10   Yes  Yes    Low  \n",
       "38         15   Yes   No   High  \n",
       "39         10    No   No    Low  \n",
       "40         17    No   No    Low  \n",
       "41         16   Yes   No   High  \n",
       "43         13   Yes  Yes    Low  \n",
       "44         13   Yes  Yes    Low  \n",
       "45         12   Yes  Yes    Low  \n",
       "46         15    No  Yes   High  \n",
       "47         16   Yes   No    Low  \n",
       "48         18   Yes   No    Low  \n",
       "49         17   Yes   No   High  \n",
       "50         16   Yes  Yes    Low  "
      ]
     },
     "execution_count": 29,
     "metadata": {},
     "output_type": "execute_result"
    }
   ],
   "source": [
    "c.loc[c['Sales'] < 6, 'Target'] = 'Low'\n",
    "c.loc[c['Sales'] >= 6, 'Target'] = 'High'\n",
    "c.head(50)"
   ]
  },
  {
   "cell_type": "code",
   "execution_count": 30,
   "metadata": {
    "colab": {
     "base_uri": "https://localhost:8080/",
     "height": 423
    },
    "id": "X3SOB1tM6vbn",
    "outputId": "d07f6410-474b-4c69-caac-6572d2af4aea"
   },
   "outputs": [
    {
     "data": {
      "text/html": [
       "<div>\n",
       "<style scoped>\n",
       "    .dataframe tbody tr th:only-of-type {\n",
       "        vertical-align: middle;\n",
       "    }\n",
       "\n",
       "    .dataframe tbody tr th {\n",
       "        vertical-align: top;\n",
       "    }\n",
       "\n",
       "    .dataframe thead th {\n",
       "        text-align: right;\n",
       "    }\n",
       "</style>\n",
       "<table border=\"1\" class=\"dataframe\">\n",
       "  <thead>\n",
       "    <tr style=\"text-align: right;\">\n",
       "      <th></th>\n",
       "      <th>Sales</th>\n",
       "      <th>CompPrice</th>\n",
       "      <th>Income</th>\n",
       "      <th>Advertising</th>\n",
       "      <th>Population</th>\n",
       "      <th>Price</th>\n",
       "      <th>ShelveLoc</th>\n",
       "      <th>Age</th>\n",
       "      <th>Education</th>\n",
       "      <th>Urban</th>\n",
       "      <th>US</th>\n",
       "      <th>Target</th>\n",
       "    </tr>\n",
       "  </thead>\n",
       "  <tbody>\n",
       "    <tr>\n",
       "      <th>0</th>\n",
       "      <td>9.50</td>\n",
       "      <td>138</td>\n",
       "      <td>73</td>\n",
       "      <td>11</td>\n",
       "      <td>276</td>\n",
       "      <td>120</td>\n",
       "      <td>0</td>\n",
       "      <td>42</td>\n",
       "      <td>17</td>\n",
       "      <td>1</td>\n",
       "      <td>1</td>\n",
       "      <td>0</td>\n",
       "    </tr>\n",
       "    <tr>\n",
       "      <th>1</th>\n",
       "      <td>11.22</td>\n",
       "      <td>111</td>\n",
       "      <td>48</td>\n",
       "      <td>16</td>\n",
       "      <td>260</td>\n",
       "      <td>83</td>\n",
       "      <td>1</td>\n",
       "      <td>65</td>\n",
       "      <td>10</td>\n",
       "      <td>1</td>\n",
       "      <td>1</td>\n",
       "      <td>0</td>\n",
       "    </tr>\n",
       "    <tr>\n",
       "      <th>2</th>\n",
       "      <td>10.06</td>\n",
       "      <td>113</td>\n",
       "      <td>35</td>\n",
       "      <td>10</td>\n",
       "      <td>269</td>\n",
       "      <td>80</td>\n",
       "      <td>2</td>\n",
       "      <td>59</td>\n",
       "      <td>12</td>\n",
       "      <td>1</td>\n",
       "      <td>1</td>\n",
       "      <td>0</td>\n",
       "    </tr>\n",
       "    <tr>\n",
       "      <th>3</th>\n",
       "      <td>7.40</td>\n",
       "      <td>117</td>\n",
       "      <td>100</td>\n",
       "      <td>4</td>\n",
       "      <td>466</td>\n",
       "      <td>97</td>\n",
       "      <td>2</td>\n",
       "      <td>55</td>\n",
       "      <td>14</td>\n",
       "      <td>1</td>\n",
       "      <td>1</td>\n",
       "      <td>0</td>\n",
       "    </tr>\n",
       "    <tr>\n",
       "      <th>4</th>\n",
       "      <td>4.15</td>\n",
       "      <td>141</td>\n",
       "      <td>64</td>\n",
       "      <td>3</td>\n",
       "      <td>340</td>\n",
       "      <td>128</td>\n",
       "      <td>0</td>\n",
       "      <td>38</td>\n",
       "      <td>13</td>\n",
       "      <td>1</td>\n",
       "      <td>0</td>\n",
       "      <td>1</td>\n",
       "    </tr>\n",
       "    <tr>\n",
       "      <th>...</th>\n",
       "      <td>...</td>\n",
       "      <td>...</td>\n",
       "      <td>...</td>\n",
       "      <td>...</td>\n",
       "      <td>...</td>\n",
       "      <td>...</td>\n",
       "      <td>...</td>\n",
       "      <td>...</td>\n",
       "      <td>...</td>\n",
       "      <td>...</td>\n",
       "      <td>...</td>\n",
       "      <td>...</td>\n",
       "    </tr>\n",
       "    <tr>\n",
       "      <th>395</th>\n",
       "      <td>12.57</td>\n",
       "      <td>138</td>\n",
       "      <td>108</td>\n",
       "      <td>17</td>\n",
       "      <td>203</td>\n",
       "      <td>128</td>\n",
       "      <td>1</td>\n",
       "      <td>33</td>\n",
       "      <td>14</td>\n",
       "      <td>1</td>\n",
       "      <td>1</td>\n",
       "      <td>0</td>\n",
       "    </tr>\n",
       "    <tr>\n",
       "      <th>396</th>\n",
       "      <td>6.14</td>\n",
       "      <td>139</td>\n",
       "      <td>23</td>\n",
       "      <td>3</td>\n",
       "      <td>37</td>\n",
       "      <td>120</td>\n",
       "      <td>2</td>\n",
       "      <td>55</td>\n",
       "      <td>11</td>\n",
       "      <td>0</td>\n",
       "      <td>1</td>\n",
       "      <td>0</td>\n",
       "    </tr>\n",
       "    <tr>\n",
       "      <th>397</th>\n",
       "      <td>7.41</td>\n",
       "      <td>162</td>\n",
       "      <td>26</td>\n",
       "      <td>12</td>\n",
       "      <td>368</td>\n",
       "      <td>159</td>\n",
       "      <td>2</td>\n",
       "      <td>40</td>\n",
       "      <td>18</td>\n",
       "      <td>1</td>\n",
       "      <td>1</td>\n",
       "      <td>0</td>\n",
       "    </tr>\n",
       "    <tr>\n",
       "      <th>398</th>\n",
       "      <td>5.94</td>\n",
       "      <td>100</td>\n",
       "      <td>79</td>\n",
       "      <td>7</td>\n",
       "      <td>284</td>\n",
       "      <td>95</td>\n",
       "      <td>0</td>\n",
       "      <td>50</td>\n",
       "      <td>12</td>\n",
       "      <td>1</td>\n",
       "      <td>1</td>\n",
       "      <td>1</td>\n",
       "    </tr>\n",
       "    <tr>\n",
       "      <th>399</th>\n",
       "      <td>9.71</td>\n",
       "      <td>134</td>\n",
       "      <td>37</td>\n",
       "      <td>0</td>\n",
       "      <td>27</td>\n",
       "      <td>120</td>\n",
       "      <td>1</td>\n",
       "      <td>49</td>\n",
       "      <td>16</td>\n",
       "      <td>1</td>\n",
       "      <td>1</td>\n",
       "      <td>0</td>\n",
       "    </tr>\n",
       "  </tbody>\n",
       "</table>\n",
       "<p>390 rows × 12 columns</p>\n",
       "</div>"
      ],
      "text/plain": [
       "     Sales  CompPrice  Income  Advertising  Population  Price  ShelveLoc  Age  \\\n",
       "0     9.50        138      73           11         276    120          0   42   \n",
       "1    11.22        111      48           16         260     83          1   65   \n",
       "2    10.06        113      35           10         269     80          2   59   \n",
       "3     7.40        117     100            4         466     97          2   55   \n",
       "4     4.15        141      64            3         340    128          0   38   \n",
       "..     ...        ...     ...          ...         ...    ...        ...  ...   \n",
       "395  12.57        138     108           17         203    128          1   33   \n",
       "396   6.14        139      23            3          37    120          2   55   \n",
       "397   7.41        162      26           12         368    159          2   40   \n",
       "398   5.94        100      79            7         284     95          0   50   \n",
       "399   9.71        134      37            0          27    120          1   49   \n",
       "\n",
       "     Education  Urban  US  Target  \n",
       "0           17      1   1       0  \n",
       "1           10      1   1       0  \n",
       "2           12      1   1       0  \n",
       "3           14      1   1       0  \n",
       "4           13      1   0       1  \n",
       "..         ...    ...  ..     ...  \n",
       "395         14      1   1       0  \n",
       "396         11      0   1       0  \n",
       "397         18      1   1       0  \n",
       "398         12      1   1       1  \n",
       "399         16      1   1       0  \n",
       "\n",
       "[390 rows x 12 columns]"
      ]
     },
     "execution_count": 30,
     "metadata": {},
     "output_type": "execute_result"
    }
   ],
   "source": [
    "#Converting the categorical data to Binary data\n",
    "c['Urban'] = c['Urban'].astype('category').cat.codes\n",
    "c['US'] = c['US'].astype('category').cat.codes\n",
    "c['ShelveLoc'] = c['ShelveLoc'].astype('category').cat.codes\n",
    "c['Target'] = c['Target'].astype('category').cat.codes\n",
    "c"
   ]
  },
  {
   "cell_type": "code",
   "execution_count": 291,
   "metadata": {
    "id": "rnzDhcjv6vbo"
   },
   "outputs": [],
   "source": [
    "array = c.values\n",
    "X = array[:,0:10]\n",
    "Y = array[:,11]\n",
    "seed = 7"
   ]
  },
  {
   "cell_type": "code",
   "execution_count": 292,
   "metadata": {
    "colab": {
     "base_uri": "https://localhost:8080/"
    },
    "id": "EiiDmD446vbp",
    "outputId": "df010e59-12ba-4466-f470-019612555c05"
   },
   "outputs": [
    {
     "data": {
      "text/plain": [
       "array([[  9.5 , 138.  ,  73.  , ...,  42.  ,  17.  ,   1.  ],\n",
       "       [ 11.22, 111.  ,  48.  , ...,  65.  ,  10.  ,   1.  ],\n",
       "       [ 10.06, 113.  ,  35.  , ...,  59.  ,  12.  ,   1.  ],\n",
       "       ...,\n",
       "       [  7.41, 162.  ,  26.  , ...,  40.  ,  18.  ,   1.  ],\n",
       "       [  5.94, 100.  ,  79.  , ...,  50.  ,  12.  ,   1.  ],\n",
       "       [  9.71, 134.  ,  37.  , ...,  49.  ,  16.  ,   1.  ]])"
      ]
     },
     "execution_count": 292,
     "metadata": {},
     "output_type": "execute_result"
    }
   ],
   "source": [
    "X"
   ]
  },
  {
   "cell_type": "code",
   "execution_count": 293,
   "metadata": {
    "colab": {
     "base_uri": "https://localhost:8080/"
    },
    "id": "PH8DLp8a6vbp",
    "outputId": "eaef36d9-d3ea-4e19-8548-c01743814478"
   },
   "outputs": [
    {
     "data": {
      "text/plain": [
       "array([0., 0., 0., 0., 1., 0., 0., 0., 0., 1., 0., 0., 1., 0., 0., 0., 0.,\n",
       "       0., 0., 0., 0., 0., 1., 1., 0., 0., 0., 1., 1., 0., 0., 0., 0., 0.,\n",
       "       1., 0., 0., 1., 0., 1., 1., 0., 1., 1., 1., 0., 1., 1., 0., 1., 1.,\n",
       "       0., 0., 1., 0., 0., 1., 1., 1., 0., 0., 1., 0., 0., 1., 0., 0., 0.,\n",
       "       0., 0., 0., 1., 0., 0., 0., 0., 0., 1., 0., 0., 0., 0., 1., 1., 0.,\n",
       "       0., 0., 0., 0., 1., 1., 1., 0., 0., 1., 0., 0., 0., 1., 1., 0., 1.,\n",
       "       1., 1., 1., 1., 0., 1., 0., 0., 0., 0., 0., 0., 0., 1., 0., 0., 0.,\n",
       "       0., 0., 0., 0., 0., 0., 0., 1., 1., 0., 0., 0., 0., 1., 0., 1., 0.,\n",
       "       0., 0., 0., 0., 0., 1., 0., 0., 1., 0., 0., 0., 0., 0., 0., 1., 0.,\n",
       "       0., 0., 0., 0., 0., 1., 1., 1., 1., 0., 0., 0., 0., 0., 0., 0., 0.,\n",
       "       0., 1., 0., 0., 0., 1., 0., 1., 1., 0., 0., 0., 0., 0., 0., 0., 0.,\n",
       "       0., 0., 0., 1., 1., 1., 1., 0., 1., 1., 1., 1., 0., 1., 1., 0., 0.,\n",
       "       1., 1., 0., 0., 0., 1., 1., 1., 1., 0., 0., 0., 0., 0., 1., 1., 0.,\n",
       "       0., 0., 1., 0., 1., 0., 0., 0., 0., 1., 0., 0., 0., 1., 0., 0., 1.,\n",
       "       0., 0., 0., 0., 1., 1., 1., 0., 1., 0., 1., 0., 0., 1., 0., 1., 1.,\n",
       "       0., 1., 0., 0., 0., 1., 0., 1., 0., 1., 0., 1., 0., 0., 0., 0., 0.,\n",
       "       0., 0., 1., 1., 0., 0., 1., 0., 0., 0., 0., 0., 0., 0., 0., 0., 0.,\n",
       "       0., 1., 0., 1., 0., 0., 0., 0., 1., 0., 0., 0., 1., 1., 0., 0., 0.,\n",
       "       0., 0., 0., 0., 0., 0., 1., 0., 0., 0., 1., 0., 1., 0., 1., 0., 1.,\n",
       "       0., 1., 1., 0., 0., 1., 0., 1., 0., 0., 0., 0., 1., 0., 1., 0., 0.,\n",
       "       0., 0., 0., 0., 0., 0., 1., 0., 1., 0., 1., 1., 0., 0., 1., 0., 0.,\n",
       "       0., 1., 0., 0., 0., 0., 0., 1., 0., 0., 0., 0., 1., 0., 1., 1., 0.,\n",
       "       0., 1., 1., 0., 0., 0., 1., 0., 1., 1., 1., 0., 0., 0., 1., 0.])"
      ]
     },
     "execution_count": 293,
     "metadata": {},
     "output_type": "execute_result"
    }
   ],
   "source": [
    "Y"
   ]
  },
  {
   "cell_type": "markdown",
   "metadata": {
    "id": "ny66Jl9n6vbp"
   },
   "source": [
    "# Train & Test Data Split"
   ]
  },
  {
   "cell_type": "code",
   "execution_count": 294,
   "metadata": {
    "id": "xb4B74rY6vbp"
   },
   "outputs": [],
   "source": [
    "X_train, X_test, y_train, y_test = train_test_split(X,Y, test_size = 0.2)"
   ]
  },
  {
   "cell_type": "code",
   "execution_count": 295,
   "metadata": {
    "colab": {
     "base_uri": "https://localhost:8080/"
    },
    "id": "kAGXjhAF6vbp",
    "outputId": "e68b106b-b0cb-4a5f-bbe4-7bec43323690"
   },
   "outputs": [
    {
     "data": {
      "text/plain": [
       "((312, 10), (312,), (78, 10), (78,))"
      ]
     },
     "execution_count": 295,
     "metadata": {},
     "output_type": "execute_result"
    }
   ],
   "source": [
    "X_train.shape, y_train.shape, X_test.shape, y_test.shape"
   ]
  },
  {
   "cell_type": "markdown",
   "metadata": {
    "id": "8TGf2RTO6vbq"
   },
   "source": [
    "# Grid Search CV"
   ]
  },
  {
   "cell_type": "code",
   "execution_count": 296,
   "metadata": {
    "colab": {
     "base_uri": "https://localhost:8080/",
     "height": 117
    },
    "id": "hSlrSvqe6vbq",
    "outputId": "109c29a8-13cd-4fa5-aabe-09ba2d6389c8"
   },
   "outputs": [
    {
     "data": {
      "text/plain": [
       "GridSearchCV(cv=10, estimator=SVC(),\n",
       "             param_grid=[{'C': [15, 14, 13, 12, 11, 10, 1], 'kernel': ['rbf']}])"
      ]
     },
     "execution_count": 296,
     "metadata": {},
     "output_type": "execute_result"
    }
   ],
   "source": [
    "clf = SVC()\n",
    "param_grid = [{'kernel':['rbf'],'C':[15,14,13,12,11,10,1] }]\n",
    "gsv = GridSearchCV(clf,param_grid,cv=10)\n",
    "gsv.fit(X_train,y_train)"
   ]
  },
  {
   "cell_type": "code",
   "execution_count": 297,
   "metadata": {
    "colab": {
     "base_uri": "https://localhost:8080/"
    },
    "id": "3yXKjDd26vbq",
    "outputId": "8f5ece80-e765-4dd7-99ab-967adcdedac2"
   },
   "outputs": [
    {
     "data": {
      "text/plain": [
       "({'C': 15, 'kernel': 'rbf'}, 0.7533266129032259)"
      ]
     },
     "execution_count": 297,
     "metadata": {},
     "output_type": "execute_result"
    }
   ],
   "source": [
    "gsv.best_params_ , gsv.best_score_ "
   ]
  },
  {
   "cell_type": "markdown",
   "metadata": {},
   "source": [
    "# Building SVM Model using best parameters & Monitoring Run Time"
   ]
  },
  {
   "cell_type": "code",
   "execution_count": 298,
   "metadata": {
    "colab": {
     "base_uri": "https://localhost:8080/",
     "height": 269
    },
    "id": "u79OwirGBlbo",
    "outputId": "462fb199-49ab-4857-dbee-e64b0d194002"
   },
   "outputs": [
    {
     "name": "stdout",
     "output_type": "stream",
     "text": [
      "Best parameters: {'C': 1, 'kernel': 'linear'}\n",
      "Best score: 0.9870967741935484\n",
      "CPU times: user 10 s, sys: 7 µs, total: 10 s\n",
      "Wall time: 10.9 s\n"
     ]
    }
   ],
   "source": [
    "%%time\n",
    "# Perform feature selection and data preprocessing here\n",
    "\n",
    "# Set up a parameter grid for GridSearchCV\n",
    "param_grid = [\n",
    "    {'kernel':['rbf'],'C':[0.1, 1, 10, 100], 'gamma':[0.1, 1, 10, 100]},\n",
    "    {'kernel':['linear'],'C':[0.1, 1, 10, 100]},\n",
    "    {'kernel':['poly'],'C':[0.1, 1, 10, 100], 'degree':[2, 3, 4]},\n",
    "    {'kernel':['sigmoid'],'C':[0.1, 1, 10, 100], 'gamma':[0.1, 1, 10, 100]}\n",
    "]\n",
    "\n",
    "# Set up the GridSearchCV object\n",
    "clf = SVC()\n",
    "gsv = GridSearchCV(clf,param_grid,cv=10)\n",
    "gsv.fit(X_train,y_train)\n",
    "\n",
    "# Print the best parameters and score obtained from GridSearchCV\n",
    "print(\"Best parameters:\", gsv.best_params_)\n",
    "print(\"Best score:\", gsv.best_score_)"
   ]
  },
  {
   "cell_type": "markdown",
   "metadata": {},
   "source": [
    "# Accuracy using SVM Model"
   ]
  },
  {
   "cell_type": "code",
   "execution_count": 301,
   "metadata": {
    "colab": {
     "base_uri": "https://localhost:8080/"
    },
    "id": "TiPALFvzJChS",
    "outputId": "0495a56c-fff2-4a4c-ee19-8c354875bcd4"
   },
   "outputs": [
    {
     "name": "stdout",
     "output_type": "stream",
     "text": [
      "Accuracy: 99.04%\n",
      "Confusion matrix:\n",
      " [[211   1]\n",
      " [  2  98]]\n"
     ]
    }
   ],
   "source": [
    "# Train the SVC with the best hyperparameters\n",
    "clf = SVC(kernel=gsv.best_params_['kernel'], C=gsv.best_params_['C'])\n",
    "clf.fit(X_train, y_train)\n",
    "\n",
    "# Evaluate the accuracy of the model on the train set\n",
    "y_pred = clf.predict(X_train)\n",
    "acc = accuracy_score(y_train, y_pred) * 100\n",
    "print(\"Accuracy: {:.2f}%\".format(acc))\n",
    "print(\"Confusion matrix:\\n\",confusion_matrix(y_train, y_pred))"
   ]
  },
  {
   "cell_type": "code",
   "execution_count": 302,
   "metadata": {},
   "outputs": [
    {
     "name": "stdout",
     "output_type": "stream",
     "text": [
      "Accuracy: 96.15%\n",
      "Confusion matrix:\n",
      " [[48  2]\n",
      " [ 1 27]]\n"
     ]
    }
   ],
   "source": [
    "# Evaluate the accuracy of the model on the test set\n",
    "y_pred = clf.predict(X_test)\n",
    "acc = accuracy_score(y_test, y_pred) * 100\n",
    "print(\"Accuracy: {:.2f}%\".format(acc))\n",
    "print(\"Confusion matrix:\\n\",confusion_matrix(y_test, y_pred))"
   ]
  }
 ],
 "metadata": {
  "colab": {
   "provenance": []
  },
  "kernelspec": {
   "display_name": "Python 3 (ipykernel)",
   "language": "python",
   "name": "python3"
  },
  "language_info": {
   "codemirror_mode": {
    "name": "ipython",
    "version": 3
   },
   "file_extension": ".py",
   "mimetype": "text/x-python",
   "name": "python",
   "nbconvert_exporter": "python",
   "pygments_lexer": "ipython3",
   "version": "3.9.13"
  }
 },
 "nbformat": 4,
 "nbformat_minor": 1
}
